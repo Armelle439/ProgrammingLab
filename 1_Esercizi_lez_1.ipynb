{
 "cells": [
  {
   "cell_type": "markdown",
   "metadata": {},
   "source": [
    "### **1. Trasformare cicli in list comprehension**\n",
    "\n",
    "Fai tre esempi di cicli producono una lista e poi riscrivi lo stesso codice usando la list comprehension"
   ]
  },
  {
   "cell_type": "code",
   "execution_count": null,
   "metadata": {},
   "outputs": [
    {
     "name": "stdout",
     "output_type": "stream",
     "text": [
      "0\n",
      "1\n",
      "2\n",
      "3\n",
      "4\n",
      "5\n",
      "6\n",
      "7\n",
      "8\n",
      "9\n"
     ]
    }
   ],
   "source": [
    "# print gli elementi della mia lista\n",
    "my_liste_cifra= [0,1,2,3,4,5,6,7,8,9] \n",
    "for i in my_liste_cifra:\n",
    "  print(i)"
   ]
  },
  {
   "cell_type": "code",
   "execution_count": null,
   "metadata": {},
   "outputs": [
    {
     "name": "stdout",
     "output_type": "stream",
     "text": [
      "[0, 1, 0, 1, 0, 1, 0, 1, 0, 1]\n"
     ]
    }
   ],
   "source": [
    "#con la list comprehension\n",
    "my_liste_cifra= [0,1,2,3,4,5,6,7,8,9]\n",
    "modulo_risult=[i % 2 for i in my_liste_cifra]\n",
    "print(modulo_risult)"
   ]
  },
  {
   "cell_type": "code",
   "execution_count": 95,
   "metadata": {},
   "outputs": [
    {
     "name": "stdout",
     "output_type": "stream",
     "text": [
      "[0, 1, 2, 3, 4, 5, 6]\n"
     ]
    }
   ],
   "source": [
    "# print gli elementi della mia lista nell'intervallo [0:7]\n",
    "my_liste_cifra= [0,1,2,3,4,5,6,7,8,9]\n",
    "# for i in range(7):\n",
    "    \n",
    "#  print(i)\n",
    " #con la list comprehension\n",
    "num_list = [x for x in my_liste_cifra if x in range(7)]\n",
    "print(num_list) \n"
   ]
  },
  {
   "cell_type": "code",
   "execution_count": null,
   "metadata": {},
   "outputs": [
    {
     "data": {
      "text/plain": [
       "45"
      ]
     },
     "execution_count": 90,
     "metadata": {},
     "output_type": "execute_result"
    }
   ],
   "source": [
    "my_liste_cifra= [0,1,2,3,4,5,6,7,8,9]\n",
    "somma = lambda i:sum(my_liste_cifra)\n",
    "somma\n",
    "risultato=somma(i)\n",
    "print(risultato)\n",
    "# somme = sum(my_liste_cifra)\n",
    "# somme"
   ]
  },
  {
   "cell_type": "code",
   "execution_count": 31,
   "metadata": {},
   "outputs": [
    {
     "name": "stdout",
     "output_type": "stream",
     "text": [
      "a\n"
     ]
    }
   ],
   "source": [
    "my_liste_cifra= ['0','1','2','3','4','5','6','7','8','9','a']\n",
    "for i in my_liste_cifra:\n",
    "    if i=='a' :\n",
    "        print (i)"
   ]
  },
  {
   "cell_type": "markdown",
   "metadata": {},
   "source": [
    "### **2. Vettore di Numeri Primi**\n",
    "\n",
    "1. **Crea un vettore** contenente tutti i numeri primi compresi tra **0 e 10**  \n",
    "   _(Puoi scriverli direttamente nell'array)._\n",
    "\n",
    "2. **Conta quanti numeri ci sono nel vettore** utilizzando la funzione `len()`.  **Ottieni lo stesso numero** accedendo all'attributo `.size` del vettore.\n",
    "\n",
    "3. Quale pensi sia il tipo di dato (`dtype`) del vettore?  Prova a rispondere senza eseguire il codice e Verifica la tua risposta accedendo all'attributo `.dtype` del vettore\n",
    "\n",
    "4. Scrivi l'array usando una list comprehension che controlla che i numeri siano primi. "
   ]
  },
  {
   "cell_type": "code",
   "execution_count": null,
   "metadata": {},
   "outputs": [
    {
     "name": "stdout",
     "output_type": "stream",
     "text": [
      "[2, 3, 5, 7]\n"
     ]
    }
   ],
   "source": [
    "# 1) crea un vettore contenente tutti i numeri primi compresi tra 0 e 10.\n",
    "# funzione di verificazione che i sia un numero primo.\n",
    "def primo(i):\n",
    "    if i<2:\n",
    "        return False\n",
    "    for j in range(2,int(i ** 0.5)+1):\n",
    "     if i % j == 0 :\n",
    "        return False\n",
    "    else :\n",
    "     return True\n",
    "# con la list comprehension uso la funzione primo per creare il mio vettore.       \n",
    "num_primi = [i for i in range(11) if primo(i) ]\n",
    "print(num_primi) # stampo tutti i numeri primi tra 0 a 10.\n",
    "\n"
   ]
  },
  {
   "cell_type": "code",
   "execution_count": 130,
   "metadata": {},
   "outputs": [
    {
     "name": "stdout",
     "output_type": "stream",
     "text": [
      "4\n"
     ]
    }
   ],
   "source": [
    "#2) e 3) \n",
    "# numero_totale_num_primi = len(num_primi)\n",
    "# numero_totale_num_primi\n",
    "import numpy as np\n",
    "num_primi = np.array([2,3,5,7], dtype =int)\n",
    "print(num_primi.size)\n",
    "# n = len(range(0,10))\n",
    "# n"
   ]
  },
  {
   "cell_type": "code",
   "execution_count": 133,
   "metadata": {},
   "outputs": [
    {
     "name": "stdout",
     "output_type": "stream",
     "text": [
      "[2 3 5 7]\n"
     ]
    }
   ],
   "source": [
    "#4) Scrivo l'array usando una list comprehension che controlla che i numeri siano primi.\n",
    "import numpy as np\n",
    "\n",
    "num_primi = np.array([i for i in range(11) if i >= 2 and all(i % j !=0 for j in range(2, int(i**0.5)+1))])\n",
    "print(num_primi)\n",
    "\n"
   ]
  },
  {
   "cell_type": "markdown",
   "metadata": {},
   "source": [
    "### **3.  Operazioni su array**\n",
    "Crea un array **a**, 1D (senza digitarlo esplicitamente), e genera due nuovi array **b**, contenente una sottostringa a piacere e **c** che è il reverse dell'array **a** (esempio [1,2,3] diventa [3,2,1]) .  Dividi l'array **a** per l'array **c**. Fai la stessa cosa per una lista."
   ]
  },
  {
   "cell_type": "code",
   "execution_count": 157,
   "metadata": {},
   "outputs": [
    {
     "name": "stdout",
     "output_type": "stream",
     "text": [
      "[1 2 3 4]\n",
      "['1' 'erica' '2' '3']\n",
      "[4 3 2 1]\n",
      "[0.25       0.66666667 1.5        4.        ]\n"
     ]
    }
   ],
   "source": [
    "# crea un array a\n",
    "import numpy as np\n",
    "a=np.array([1,2,3,4])\n",
    "b= np.array([1,\"erica\",2,3,])\n",
    "c= a[::-1] # slicing inverse la liste\n",
    "print(a)\n",
    "print(b)\n",
    "print(c)\n",
    "#diviso larray a per larray c\n",
    "d=a/c\n",
    "print(d)\n"
   ]
  },
  {
   "cell_type": "code",
   "execution_count": null,
   "metadata": {},
   "outputs": [],
   "source": []
  }
 ],
 "metadata": {
  "kernelspec": {
   "display_name": "base",
   "language": "python",
   "name": "python3"
  },
  "language_info": {
   "codemirror_mode": {
    "name": "ipython",
    "version": 3
   },
   "file_extension": ".py",
   "mimetype": "text/x-python",
   "name": "python",
   "nbconvert_exporter": "python",
   "pygments_lexer": "ipython3",
   "version": "3.12.7"
  }
 },
 "nbformat": 4,
 "nbformat_minor": 2
}
