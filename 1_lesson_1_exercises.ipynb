{
 "cells": [
  {
   "cell_type": "code",
   "execution_count": 9,
   "id": "3cfbd3eb",
   "metadata": {},
   "outputs": [
    {
     "data": {
      "text/plain": [
       "[1, 2, 3, 4, 5, 6]"
      ]
     },
     "execution_count": 9,
     "metadata": {},
     "output_type": "execute_result"
    }
   ],
   "source": [
    "### **1. Trasformare cicli in list comprehension**\n",
    "\n",
    "#Fai tre esempi di cicli producono una lista e poi riscrivi lo stesso codice usando la list comprehension\n",
    "\n",
    "lista_1 = [1,2,3,4,5,6]\n",
    "#for x  in range(7):\n",
    "#   print(x)    \n",
    "# con la list comprehension\n",
    "lista_1 =([x for x in lista_1])\n",
    "lista_1\n",
    "    "
   ]
  },
  {
   "cell_type": "code",
   "execution_count": null,
   "id": "f3398ce2",
   "metadata": {},
   "outputs": [
    {
     "data": {
      "text/plain": [
       "[1, 2, 3, 4, 5, 6]"
      ]
     },
     "execution_count": 58,
     "metadata": {},
     "output_type": "execute_result"
    }
   ],
   "source": [
    "lista_1 = [1, 2, 3, 4, 5, 6]\n",
    "lista_1 = list(map(lambda x: x, lista_1)) \n",
    "#list converts the result to a list, map applies the lambda to each element of lista_1.\n",
    "lista_1\n",
    "\n",
    "# con la list comprehension\n",
    "lista_1 = (lambda lst: [x for x in lst])(lista_1) \n",
    "lista_1\n",
    "# immediately calls the lambda with lista_1 as its argoment."
   ]
  },
  {
   "cell_type": "code",
   "execution_count": 112,
   "id": "9cabba16",
   "metadata": {},
   "outputs": [
    {
     "name": "stdout",
     "output_type": "stream",
     "text": [
      "int64\n"
     ]
    },
    {
     "data": {
      "text/plain": [
       "array([1, 3, 5, 7, 9])"
      ]
     },
     "execution_count": 112,
     "metadata": {},
     "output_type": "execute_result"
    }
   ],
   "source": [
    "### **2. Vettore di Numeri Primi**\n",
    "\n",
    "# 1. **Crea un vettore** contenente tutti i numeri primi compresi tra **0 e 10**_(Puoi scriverli direttamente nell'array)._\n",
    "# con la list comprehension.\n",
    "\n",
    "num = [x for x in range(10) if x%2!=0]\n",
    "num\n",
    "# senza list comprehension\n",
    "vett_num_primi = [1,3,5,7,9]\n",
    "vett_num_primi\n",
    "\n",
    "\n",
    "#2. **Conta quanti numeri ci sono nel vettore** utilizzando la funzione `len()`.  **Ottieni lo stesso numero** accedendo all'attributo `.size` del vettore.\n",
    "len(num)\n",
    "\n",
    "from numpy import size\n",
    "size(vett_num_primi)\n",
    "\n",
    "#3. Quale pensi sia il tipo di dato (`dtype`) del vettore?  Prova a rispondere senza eseguire il codice e Verifica la tua risposta accedendo all'attributo `.dtype` del vettore\n",
    "import numpy as np \n",
    "num = np.array([1,3,5,7,9])\n",
    "print(num.dtype)\n",
    "# another possibility\n",
    "np.array([1,3,5,7,9]).dtype\n",
    "\n",
    "#4. Scrivi l'array usando una list comprehension che controlla che i numeri siano primi. \n",
    "import numpy as np \n",
    "a = np.array([x for x in range(10) if x%2!=0])\n",
    "a"
   ]
  }
 ],
 "metadata": {
  "kernelspec": {
   "display_name": ".conda",
   "language": "python",
   "name": "python3"
  },
  "language_info": {
   "codemirror_mode": {
    "name": "ipython",
    "version": 3
   },
   "file_extension": ".py",
   "mimetype": "text/x-python",
   "name": "python",
   "nbconvert_exporter": "python",
   "pygments_lexer": "ipython3",
   "version": "3.12.9"
  }
 },
 "nbformat": 4,
 "nbformat_minor": 5
}
