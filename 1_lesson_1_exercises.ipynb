{
 "cells": [
  {
   "cell_type": "code",
   "execution_count": 9,
   "id": "3cfbd3eb",
   "metadata": {},
   "outputs": [
    {
     "data": {
      "text/plain": [
       "[1, 2, 3, 4, 5, 6]"
      ]
     },
     "execution_count": 9,
     "metadata": {},
     "output_type": "execute_result"
    }
   ],
   "source": [
    "### **1. Trasformare cicli in list comprehension**\n",
    "\n",
    "#Fai tre esempi di cicli producono una lista e poi riscrivi lo stesso codice usando la list comprehension\n",
    "\n",
    "lista_1 = [1,2,3,4,5,6]\n",
    "#for x  in range(7):\n",
    "#   print(x)    \n",
    "# con la list comprehension\n",
    "lista_1 =([x for x in lista_1])\n",
    "lista_1\n",
    "    "
   ]
  },
  {
   "cell_type": "code",
   "execution_count": null,
   "id": "f3398ce2",
   "metadata": {},
   "outputs": [
    {
     "data": {
      "text/plain": [
       "[1, 2, 3, 4, 5, 6]"
      ]
     },
     "execution_count": 58,
     "metadata": {},
     "output_type": "execute_result"
    }
   ],
   "source": [
    "lista_1 = [1, 2, 3, 4, 5, 6]\n",
    "lista_1 = list(map(lambda x: x, lista_1)) \n",
    "#list converts the result to a list, map applies the lambda to each element of lista_1.\n",
    "lista_1\n",
    "\n",
    "# con la list comprehension\n",
    "lista_1 = (lambda lst: [x for x in lst])(lista_1) \n",
    "lista_1\n",
    "# immediately calls the lambda with lista_1 as its argoment."
   ]
  },
  {
   "cell_type": "code",
   "execution_count": 112,
   "id": "9cabba16",
   "metadata": {},
   "outputs": [
    {
     "name": "stdout",
     "output_type": "stream",
     "text": [
      "int64\n"
     ]
    },
    {
     "data": {
      "text/plain": [
       "array([1, 3, 5, 7, 9])"
      ]
     },
     "execution_count": 112,
     "metadata": {},
     "output_type": "execute_result"
    }
   ],
   "source": [
    "### **2. Vettore di Numeri Primi**\n",
    "\n",
    "# 1. **Crea un vettore** contenente tutti i numeri primi compresi tra **0 e 10**_(Puoi scriverli direttamente nell'array)._\n",
    "# con la list comprehension.\n",
    "\n",
    "num = [x for x in range(10) if x%2!=0]\n",
    "num\n",
    "# senza list comprehension\n",
    "vett_num_primi = [1,3,5,7,9]\n",
    "vett_num_primi\n",
    "\n",
    "\n",
    "#2. **Conta quanti numeri ci sono nel vettore** utilizzando la funzione `len()`.  **Ottieni lo stesso numero** accedendo all'attributo `.size` del vettore.\n",
    "len(num)\n",
    "\n",
    "from numpy import size\n",
    "size(vett_num_primi)\n",
    "\n",
    "#3. Quale pensi sia il tipo di dato (`dtype`) del vettore?  Prova a rispondere senza eseguire il codice e Verifica la tua risposta accedendo all'attributo `.dtype` del vettore\n",
    "import numpy as np \n",
    "num = np.array([1,3,5,7,9])\n",
    "print(num.dtype)\n",
    "# another possibility\n",
    "np.array([1,3,5,7,9]).dtype\n",
    "\n",
    "#4. Scrivi l'array usando una list comprehension che controlla che i numeri siano primi. \n",
    "import numpy as np \n",
    "a = np.array([x for x in range(10) if x%2!=0])\n",
    "a"
   ]
  },
  {
   "cell_type": "code",
   "execution_count": 54,
   "id": "3299475b",
   "metadata": {},
   "outputs": [
    {
     "name": "stderr",
     "output_type": "stream",
     "text": [
      "C:\\Users\\23769\\AppData\\Local\\Temp\\ipykernel_49872\\669972669.py:18: RuntimeWarning: divide by zero encountered in divide\n",
      "  a/c\n",
      "C:\\Users\\23769\\AppData\\Local\\Temp\\ipykernel_49872\\669972669.py:28: RuntimeWarning: divide by zero encountered in divide\n",
      "  lista1/lista2\n",
      "C:\\Users\\23769\\AppData\\Local\\Temp\\ipykernel_49872\\669972669.py:31: RuntimeWarning: divide by zero encountered in divide\n",
      "  lista/lista3\n"
     ]
    },
    {
     "data": {
      "text/plain": [
       "array([0.00000000e+00, 2.04081633e-02, 4.16666667e-02, 6.38297872e-02,\n",
       "       8.69565217e-02, 1.11111111e-01, 1.36363636e-01, 1.62790698e-01,\n",
       "       1.90476190e-01, 2.19512195e-01, 2.50000000e-01, 2.82051282e-01,\n",
       "       3.15789474e-01, 3.51351351e-01, 3.88888889e-01, 4.28571429e-01,\n",
       "       4.70588235e-01, 5.15151515e-01, 5.62500000e-01, 6.12903226e-01,\n",
       "       6.66666667e-01, 7.24137931e-01, 7.85714286e-01, 8.51851852e-01,\n",
       "       9.23076923e-01, 1.00000000e+00, 1.08333333e+00, 1.17391304e+00,\n",
       "       1.27272727e+00, 1.38095238e+00, 1.50000000e+00, 1.63157895e+00,\n",
       "       1.77777778e+00, 1.94117647e+00, 2.12500000e+00, 2.33333333e+00,\n",
       "       2.57142857e+00, 2.84615385e+00, 3.16666667e+00, 3.54545455e+00,\n",
       "       4.00000000e+00, 4.55555556e+00, 5.25000000e+00, 6.14285714e+00,\n",
       "       7.33333333e+00, 9.00000000e+00, 1.15000000e+01, 1.56666667e+01,\n",
       "       2.40000000e+01, 4.90000000e+01,            inf])"
      ]
     },
     "execution_count": 54,
     "metadata": {},
     "output_type": "execute_result"
    }
   ],
   "source": [
    "### **3.  Operazioni su array**\n",
    "# Crea un array **a**, 1D (senza digitarlo esplicitamente)\n",
    "import numpy as np\n",
    "a = np.arange(51)\n",
    "a\n",
    "# another possibility\n",
    "a1 = np.linspace(1,9)\n",
    "a1\n",
    "a1.dtype\n",
    "# Genera due nuovi array **b**, contenente una sottostringa a piacere e **c** che è il reverse dell'array **a** (esempio [1,2,3] diventa [3,2,1]) . \n",
    "b =np.array([x for x in range(30)])\n",
    "b\n",
    "c = np.flip(a)\n",
    "# other \n",
    "c=a[::-1]\n",
    "c\n",
    "# Dividi l'array **a** per l'array **c**\n",
    "a/c\n",
    "# Fai la stessa cosa per una lista.\n",
    "import numpy as np\n",
    "lista = np.array([x for x in range(51)])\n",
    "lista\n",
    "lista.dtype\n",
    "lista1 = np.array([x for x in range(10)])\n",
    "lista1\n",
    "lista2 = np.flip(lista1)\n",
    "lista2\n",
    "lista1/lista2\n",
    "lista3 = np.flip(lista)\n",
    "lista3\n",
    "lista/lista3"
   ]
  }
 ],
 "metadata": {
  "kernelspec": {
   "display_name": ".conda",
   "language": "python",
   "name": "python3"
  },
  "language_info": {
   "codemirror_mode": {
    "name": "ipython",
    "version": 3
   },
   "file_extension": ".py",
   "mimetype": "text/x-python",
   "name": "python",
   "nbconvert_exporter": "python",
   "pygments_lexer": "ipython3",
   "version": "3.12.9"
  }
 },
 "nbformat": 4,
 "nbformat_minor": 5
}
