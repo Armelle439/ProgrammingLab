{
 "cells": [
  {
   "cell_type": "code",
   "execution_count": null,
   "id": "874bafdc",
   "metadata": {},
   "outputs": [
    {
     "data": {
      "text/plain": [
       "[2]"
      ]
     },
     "execution_count": 23,
     "metadata": {},
     "output_type": "execute_result"
    }
   ],
   "source": [
    "### **1. Indicizzazione booleana**\n",
    "\n",
    "# 1. Creare un nuovo vettore con tutti i numeri primi tra 0 e 20. I numeri primi compresi tra 0 e 20 sono: **2, 3, 5, 7, 11, 13, 17, 19**.\n",
    "import numpy as np\n",
    "vett_num_primi = np.array([x for x in range(2,21) if all(x%i!=0 for i in range(2, int(x**0.5) +1))])\n",
    "vett_num_primi\n",
    "# another possibility\n",
    "numeri_primi = [x for x in range(2,21) if all(x%i!=0 for i in range(2, int(x**0.5)+1))]\n",
    "numeri_primi\n",
    "\n",
    "# 2. Utilizza un test logico (ad esempio `>`, `<`, `==`, `!=`) per **selezionare tutte le voci del vettore maggiori di 10**.\n",
    "vett_num_primi>10\n",
    "voci_maggiori10 =vett_num_primi[vett_num_primi>10]\n",
    "voci_maggiori10\n",
    "\n",
    "#3. Utilizza un test logico per selezionare **tutti i numeri primi pari** dalla lista. \n",
    "numeri_pari_lista =[x for x in numeri_primi if x%2==0]\n",
    "numeri_pari_lista"
   ]
  },
  {
   "cell_type": "code",
   "execution_count": 67,
   "id": "632bd784",
   "metadata": {},
   "outputs": [
    {
     "data": {
      "text/plain": [
       "(array([[ 0,  1,  2,  3,  4],\n",
       "        [ 5,  6,  7,  8,  9],\n",
       "        [10, 11, 12, 13, 14],\n",
       "        [15, 16, 17, 18, 19]]),\n",
       " array([[ 5,  6,  7,  8,  9],\n",
       "        [15, 16, 17, 18, 19]]),\n",
       " array([10, 11, 12, 13, 14]),\n",
       " array([[0.        , 0.09090909, 0.16666667, 0.23076923, 0.28571429],\n",
       "        [0.5       , 0.54545455, 0.58333333, 0.61538462, 0.64285714],\n",
       "        [1.        , 1.        , 1.        , 1.        , 1.        ],\n",
       "        [1.5       , 1.45454545, 1.41666667, 1.38461538, 1.35714286]]))"
      ]
     },
     "execution_count": 67,
     "metadata": {},
     "output_type": "execute_result"
    }
   ],
   "source": [
    "### **2.  Operazioni su array**\n",
    "# Crea un array **a**, 2D (senza digitarlo esplicitamente)\n",
    "import random\n",
    "import numpy as np\n",
    "a = np.arange(20).reshape((4,5))\n",
    "\n",
    "# Genera due nuovi array **b**, contenente la sua 2ª e 4ª riga, e **c** contenente solo la 3ª.\n",
    "b =a[[1,3],:] \n",
    "c = a[2, :] \n",
    "# Dividi ogni colonna dell'array a, elemento per elemento, con l'array c.\n",
    "d= a/c\n",
    "a, b, c , d"
   ]
  },
  {
   "cell_type": "code",
   "execution_count": null,
   "id": "887d77ce",
   "metadata": {},
   "outputs": [
    {
     "data": {
      "text/plain": [
       "(array([[0.04093263, 0.04025911, 0.25045565],\n",
       "        [0.24146149, 0.10607221, 0.07100906],\n",
       "        [0.01855263, 0.48207167, 0.11252712],\n",
       "        [0.05803745, 0.43564042, 0.19372642],\n",
       "        [0.46021001, 0.49301432, 0.15258553],\n",
       "        [0.08403496, 0.40755089, 0.49981571],\n",
       "        [0.45003131, 0.23186604, 0.01952614],\n",
       "        [0.13092438, 0.3400934 , 0.01627636],\n",
       "        [0.09612806, 0.39213256, 0.36212506],\n",
       "        [0.06689416, 0.36439934, 0.247184  ]]),\n",
       " array([1, 2, 0, 0, 2, 0, 2, 2, 0, 0]),\n",
       " array([0.54025911, 0.42899094, 0.48144737, 0.55803745, 0.65258553,\n",
       "        0.41596504, 0.48047386, 0.51627636, 0.40387194, 0.43310584]))"
      ]
     },
     "execution_count": 104,
     "metadata": {},
     "output_type": "execute_result"
    }
   ],
   "source": [
    "### **3. Seleziona il numero più vicino a 0.5 in un array casuale**\n",
    "# Genera un array 10 x 3 con numeri casuali nell'intervallo [0,1].\n",
    "import random\n",
    "import numpy as np\n",
    "a1= np.random.rand(10,3)\n",
    "a1\n",
    "#Per ogni riga, seleziona il numero più vicino a 0.5. Per farlo usa il fancy indexing.\n",
    "#  Distanza assoluta a 0.5\n",
    "distanza= np.abs(a1 - 0.5)\n",
    "\n",
    "# Indice della valeure minimale (più vicino ) per linea\n",
    "indici = np.argmin(distanza, axis=1)\n",
    "\n",
    "# Estrare i valori con fancy indexing\n",
    "valori_vicini = a1[np.arange(10), indici]\n",
    "distanza , indici , valori_vicini\n",
    "\n"
   ]
  },
  {
   "cell_type": "code",
   "execution_count": 138,
   "id": "aa653265",
   "metadata": {},
   "outputs": [
    {
     "data": {
      "text/plain": [
       "np.float64(52.38095238095239)"
      ]
     },
     "execution_count": 138,
     "metadata": {},
     "output_type": "execute_result"
    }
   ],
   "source": [
    "### **4. Analisi della Frequenza Cardiaca con NumPy**\n",
    "\n",
    "# 1. **Supponiamo che i seguenti valori rappresentino la tua frequenza cardiaca** registrata dal tuo Fitbit durante la giornata: `68, 65, 77, 110, 160, 161, 162, 161, 160, 161, 162, 163, 164, 163, 162, 100, 90, 97, 72, 60, 70`  \n",
    "# Inserisci questi valori in un array NumPy.\n",
    "\n",
    "import numpy as np\n",
    "freq_cardiaca = np.array([68, 65, 77, 110, 160, 161, 162, 161, 160, 161, 162, 163, 164, 163, 162, 100, 90, 97, 72, 60, 70])\n",
    "freq_cardiaca\n",
    "\n",
    "# 2. **Trova la frequenza cardiaca minima** registrata durante la giornata. \n",
    "\n",
    "freq_minima = np.min(freq_cardiaca)\n",
    "freq_minima\n",
    "# Questo valore rappresenta approssimativamente la tua frequenza cardiaca a riposo, un comune indicatore di salute.\n",
    "\n",
    "# 3. **Trova la frequenza cardiaca massima** registrata durante la giornata.  \n",
    "freq_max= np.max(freq_cardiaca)\n",
    "freq_max\n",
    "# Questo valore è un'indicazione dell'intensità dell'esercizio fisico.\n",
    "\n",
    "# 4. **Calcoliamo la percentuale di letture effettuate mentre stavi facendo esercizio fisico (frequenza cardiaca sopra a 120)**: \n",
    "per_lettura_sopra_120 =np.mean(freq_cardiaca>120) * 100\n",
    "per_lettura_sopra_120\n",
    "\n",
    "# Crea un nuovo array che contiene `True` quando la frequenza cardiaca è **superiore a 120**, e `False` quando è **inferiore o uguale a 120**.\n",
    "freq_sup_120 = freq_cardiaca>120\n",
    "freq_sup_120\n",
    "\n",
    "# Utilizza una funzione di sintesi per calcolare la percentuale di osservazioni in cui la tua frequenza cardiaca era sopra 120.\n",
    "per_oss_sopra_120 =np.mean(freq_cardiaca>120)*100\n",
    "per_oss_sopra_120\n",
    "# ovvero\n",
    "import pandas as pd\n",
    "per_oss_sopra_120 = pd.Series(freq_cardiaca).gt(120).mean()*100\n",
    "per_oss_sopra_120\n"
   ]
  },
  {
   "cell_type": "code",
   "execution_count": null,
   "id": "07c8fe38",
   "metadata": {},
   "outputs": [
    {
     "name": "stdout",
     "output_type": "stream",
     "text": [
      "[ 60000.  121037.5  60500.   97900. ]\n"
     ]
    },
    {
     "data": {
      "text/plain": [
       "np.float64(40187.5)"
      ]
     },
     "execution_count": 202,
     "metadata": {},
     "output_type": "execute_result"
    }
   ],
   "source": [
    "### **5. Manipolazione di vettori**\n",
    "\n",
    "# 1. Creare un vettore contenente i seguenti stipendi: **50.000, 105.250, 55.000, 89.000**.  \n",
    "import numpy as np\n",
    "stipendi = np.array([50000 , 105250 , 55000 , 89000])\n",
    "stipendi\n",
    "\n",
    "# Qual è il costo totale del personale (somma di tutti gli stipendi dell'azienda)?\n",
    "costo_totale_perso = np.sum(stipendi)\n",
    "costo_totale_perso\n",
    "\n",
    "# 2. Supponiamo che il nostro malvagio CEO abbia deciso di darsi un aumento.  \n",
    "# Modifica il vettore degli stipendi in modo che il CEO, la persona che guadagna **105.250 dollari**, riceva un aumento del **15%**.\n",
    "bonus = (105250*15)/100\n",
    "bonus\n",
    "\n",
    "stipendi_modificato1 =np.array([x + bonus if x==105250 else x for x in stipendi])\n",
    "stipendi_modificato1 \n",
    "\n",
    "# 3. Il **115%** di **105.250 dollari** è **121.037,50 dollari**.  \n",
    "\n",
    "# Questo valore è presente nel tuo array? Se no, riesci a capire il motivo?\n",
    "# Sì questo valore è presente nel mio array\n",
    "\n",
    "# 4. Ricrea il vettore e utilizza l'argomento **`dtype`** in modo che, quando il CEO riceve un aumento del **15%**, il suo stipendio finale sia esattamente **121.037,50 dollari**.\n",
    "stipendi_modificato.dtype\n",
    "stipendi_2 = np.array([x + bonus if x==105250 else x for x in stipendi], dtype=np.float64)\n",
    "stipendi_2\n",
    "\n",
    "# 5. Questo aumento ha infastidito l'impiegata con lo stipendio più basso (**50.000 dollari**), che ora pretende un aumento del **20%**.  \n",
    "# Modifica il vettore per riflettere questo cambiamento.\n",
    "bonus1 = (50000*20)/100\n",
    "bonus1\n",
    "stipendi_modificato2 = np.array([x + bonus1 if x==np.min(stipendi) else x for x in stipendi_2])\n",
    "stipendi_modificato2\n",
    "\n",
    "\n",
    "# 6. L'aumento dato al CEO e all'impiegata ha irritato gli altri due dipendenti, quindi ora devono ricevere un aumento del **10%**.  \n",
    "# Modifica il vettore di conseguenza.\n",
    "\n",
    "stipendi_modificato2[[2, 3]] = np.round(stipendi[[2, 3]] * 1.10, 2)\n",
    "print(stipendi_modificato2)\n",
    "\n",
    "# 7. Calcola il **costo totale del personale** dopo tutti gli aumenti.  \n",
    "costo_totale_finale = np.sum(stipendi_modificato2)\n",
    "costo_totale_finale\n",
    "# Alla fine, quanto è costato all'azienda l'aumento di circa **16.000 dollari** del CEO?\n",
    "costo_azienda = costo_totale_finale -costo_totale_perso\n",
    "costo_azienda # Perchè l'aumento del CEO ha indotto quello degli altri.\n"
   ]
  },
  {
   "cell_type": "code",
   "execution_count": 210,
   "id": "fa46eb57",
   "metadata": {},
   "outputs": [
    {
     "ename": "FileNotFoundError",
     "evalue": "[Errno 2] No such file or directory: 'CO2.csv'",
     "output_type": "error",
     "traceback": [
      "\u001b[31m---------------------------------------------------------------------------\u001b[39m",
      "\u001b[31mFileNotFoundError\u001b[39m                         Traceback (most recent call last)",
      "\u001b[36mCell\u001b[39m\u001b[36m \u001b[39m\u001b[32mIn[210]\u001b[39m\u001b[32m, line 5\u001b[39m\n\u001b[32m      1\u001b[39m \u001b[38;5;66;03m### **6. Valori di Co2**\u001b[39;00m\n\u001b[32m      2\u001b[39m \n\u001b[32m      3\u001b[39m \u001b[38;5;66;03m# 1. Carica tramite numpy il file generato e salvato a lezione sulle emissioni di CO2\u001b[39;00m\n\u001b[32m      4\u001b[39m \u001b[38;5;28;01mimport\u001b[39;00m\u001b[38;5;250m \u001b[39m\u001b[34;01mnumpy\u001b[39;00m\u001b[38;5;250m \u001b[39m\u001b[38;5;28;01mas\u001b[39;00m\u001b[38;5;250m \u001b[39m\u001b[34;01mnp\u001b[39;00m\n\u001b[32m----> \u001b[39m\u001b[32m5\u001b[39m CO2_csv = \u001b[43mnp\u001b[49m\u001b[43m.\u001b[49m\u001b[43mload\u001b[49m\u001b[43m(\u001b[49m\u001b[33;43m'\u001b[39;49m\u001b[33;43mCO2.csv\u001b[39;49m\u001b[33;43m'\u001b[39;49m\u001b[43m)\u001b[49m\n\u001b[32m      6\u001b[39m CO2_csv\n\u001b[32m      7\u001b[39m \u001b[38;5;66;03m# 2. Calcola quanti valori ci CO2 sono sopra la soglia di 18  tonnellate per anno ed il loro valore medio\u001b[39;00m\n",
      "\u001b[36mFile \u001b[39m\u001b[32m~\\AppData\\Roaming\\Python\\Python312\\site-packages\\numpy\\lib\\_npyio_impl.py:451\u001b[39m, in \u001b[36mload\u001b[39m\u001b[34m(file, mmap_mode, allow_pickle, fix_imports, encoding, max_header_size)\u001b[39m\n\u001b[32m    449\u001b[39m     own_fid = \u001b[38;5;28;01mFalse\u001b[39;00m\n\u001b[32m    450\u001b[39m \u001b[38;5;28;01melse\u001b[39;00m:\n\u001b[32m--> \u001b[39m\u001b[32m451\u001b[39m     fid = stack.enter_context(\u001b[38;5;28;43mopen\u001b[39;49m\u001b[43m(\u001b[49m\u001b[43mos\u001b[49m\u001b[43m.\u001b[49m\u001b[43mfspath\u001b[49m\u001b[43m(\u001b[49m\u001b[43mfile\u001b[49m\u001b[43m)\u001b[49m\u001b[43m,\u001b[49m\u001b[43m \u001b[49m\u001b[33;43m\"\u001b[39;49m\u001b[33;43mrb\u001b[39;49m\u001b[33;43m\"\u001b[39;49m\u001b[43m)\u001b[49m)\n\u001b[32m    452\u001b[39m     own_fid = \u001b[38;5;28;01mTrue\u001b[39;00m\n\u001b[32m    454\u001b[39m \u001b[38;5;66;03m# Code to distinguish from NumPy binary files and pickles.\u001b[39;00m\n",
      "\u001b[31mFileNotFoundError\u001b[39m: [Errno 2] No such file or directory: 'CO2.csv'"
     ]
    }
   ],
   "source": [
    "### **6. Valori di Co2**\n",
    "\n",
    "# 1. Carica tramite numpy il file generato e salvato a lezione sulle emissioni di CO2\n",
    "import numpy as np\n",
    "CO2_csv = np.load('CO2.csv')\n",
    "CO2_csv\n",
    "# 2. Calcola quanti valori ci CO2 sono sopra la soglia di 18  tonnellate per anno ed il loro valore medio\n",
    "valori_sopra_soglia = np.sum(CO2_csv>18)\n",
    "valori_sopra_soglia\n",
    "media_valori_sopra_soglia = np.mean(CO2_csv[CO2_csv>18])\n",
    "media_valori_sopra_soglia\n",
    "\n",
    "# 3. Calcola la frazione totale di emissione sopra la soglia (somma totale sopra la soglia/somma totale)\n",
    "somma_totale = np.sum(CO2_csv)\n",
    "somma_totale_sopra_soglia = np.sum(valori_sopra_soglia)\n",
    "somma_totale_sopra_soglia\n",
    "frazione_totale = somma_totale_sopra_soglia/somma_totale\n",
    "frazione_totale"
   ]
  },
  {
   "cell_type": "code",
   "execution_count": null,
   "id": "9c018472",
   "metadata": {},
   "outputs": [
    {
     "data": {
      "text/plain": [
       "np.float64(57666.666666666664)"
      ]
     },
     "execution_count": 239,
     "metadata": {},
     "output_type": "execute_result"
    }
   ],
   "source": [
    " ### **7. Analisi di una matrice**\n",
    "# Data la matrice survey con età, reddito e anni di istruzione\n",
    "import numpy as np\n",
    "\n",
    "survey_matrix = np.array([\n",
    "    [25, 40000, 10],\n",
    "    [32, 52000, 12],\n",
    "    [40, 63000, 14],\n",
    "    [29, 47000, 11],\n",
    "    [35, 58000, 13]\n",
    "])\n",
    "survey_matrix\n",
    "\n",
    "# 1. Seleziona dalla matrice solo gli intervistati con **almeno 12 anni di istruzione** utilizzando un test logico.\n",
    "survey_matrix[:,2]>=12\n",
    "intervistati_almeno_12anni = survey_matrix[survey_matrix[:,2]>=12]\n",
    "intervistati_almeno_12anni\n",
    "# 2. In un'unica riga di codice, seleziona i **redditi** degli intervistati con **almeno 12 anni di istruzione**.\n",
    "#redditi_intervistati_almeno_12anni = intervistati_almeno_12anni[:,1]\n",
    "#redditi_intervistati_almeno_12anni\n",
    "\n",
    "intervistati_almeno_12anni[:,1] # in un'unica  riga\n",
    "# 3. In un'unica riga di codice, calcola il **reddito medio** degli intervistati con **almeno 12 anni di istruzione**.\n",
    "np.mean(redditi_intervistati_almeno_12anni) # in un'unica riga\n",
    "#redditoMedio_intervistati_almeno_12anni = np.mean(intervistati_almeno_12anni[:,1])\n",
    "#redditoMedio_intervistati_almeno_12anni\n"
   ]
  },
  {
   "cell_type": "code",
   "execution_count": null,
   "id": "ff0fa4c1",
   "metadata": {},
   "outputs": [
    {
     "data": {
      "text/plain": [
       "nan"
      ]
     },
     "execution_count": 245,
     "metadata": {},
     "output_type": "execute_result"
    }
   ],
   "source": [
    "### **8. Rimpiazzare gli outliers**\n",
    "import numpy as np\n",
    "\n",
    "# Vediamo se possiamo ripulire alcuni dati mancanti. Immagina di essere il responsabile dei registri di un comune locale con **500 cittadini** di **55 anni e oltre**. \n",
    "\n",
    "# La città è famosa per la sua longevità e un team di ricercatori ti ha chiesto di identificare **il cittadino più anziano**.  \n",
    "\n",
    "# Il problema è che, occasionalmente, nei registri si verificano errori e in quei casi viene inserita l'età **999** invece dell'età corretta.  \n",
    "\n",
    "# Rimuovi i dati errati dall'array e determina l'età del cittadino più anziano.\n",
    "\n"
   ]
  },
  {
   "cell_type": "code",
   "execution_count": 278,
   "id": "bf671739",
   "metadata": {},
   "outputs": [
    {
     "data": {
      "text/plain": [
       "14"
      ]
     },
     "execution_count": 278,
     "metadata": {},
     "output_type": "execute_result"
    }
   ],
   "source": [
    "ages = np.array([92, 108, 75, 63, 62, 66, 90, 98, 97, 92, 60, 107, 90, 71, 97, 86, 55, 55,\n",
    "                 98, 57, 96, 104, 96, 94, 72, 98, 111, 98, 89, 69, 77, 92, 85, 101, 93, 100,\n",
    "                 90, 101, 96, 98, 999, 87, 106, 86, 108, 55, 67, 65, 68, 59, 67, 72, 57, 79,\n",
    "                 95, 67, 86, 70, 91, 111, 67, 75, 59, 88, 90, 99, 94, 65, 111, 103, 100, 70,\n",
    "                 63, 65, 100, 110, 999, 70, 57, 75, 56, 104, 111, 90, 74, 100, 90, 86, 88, 99,\n",
    "                 58, 103, 88, 103, 64, 96, 105, 89, 83, 65, 100, 62, 73, 105, 83, 105, 58, 96,\n",
    "                 77, 74, 95, 109, 91, 101, 91, 999, 63, 111, 97, 108, 75, 77, 73, 58, 94, 83,\n",
    "                 90, 61, 110, 107, 105, 85, 64, 66, 71, 107, 105, 72, 78, 66, 100, 102, 72, 999,\n",
    "                 74, 68, 73, 72, 90, 93, 99, 55, 92, 83, 58, 71, 89, 75, 98, 87, 999, 78,\n",
    "                 97, 71, 106, 83, 58, 81, 100, 72, 93, 70, 65, 60, 95, 107, 94, 77, 87, 90,\n",
    "                 82, 56, 99, 107, 86, 56, 73, 96, 64, 69, 64, 92, 57, 104, 110, 69, 66, 68,\n",
    "                 84, 89, 72, 80, 55, 75, 87, 57, 106, 69, 66, 62, 102, 76, 111, 999, 96, 83,\n",
    "                 84, 61, 102, 63, 107, 63, 76, 58, 83, 58, 61, 71, 77, 90, 74, 100, 103, 74,\n",
    "                 92, 102, 63, 87, 93, 61, 63, 86, 74, 98, 64, 999, 78, 95, 84, 81, 107, 85,\n",
    "                 79, 82, 89, 65, 107, 57, 74, 77, 97, 92, 58, 96, 105, 60, 55, 74, 57, 80,\n",
    "                 62, 85, 87, 62, 999, 71, 74, 70, 97, 59, 82, 96, 105, 70, 89, 105, 60, 70,\n",
    "                 87, 999, 64, 108, 107, 104, 85, 95, 108, 74, 64, 97, 89, 88, 79, 67, 81, 92,\n",
    "                 63, 80, 76, 94, 104, 67, 73, 61, 99, 96, 68, 90, 86, 79, 85, 111, 75, 98,\n",
    "                 81, 111, 108, 103, 85, 72, 108, 102, 999, 64, 107, 112, 66, 93, 89, 78, 66, 92,\n",
    "                 63, 101, 92, 64, 72, 56, 71, 64, 87, 78, 107, 85, 109, 95, 69, 111, 64, 72,\n",
    "                 55, 66, 99, 57, 78, 55, 58, 90, 88, 71, 90, 103, 92, 98, 67, 97, 77, 68,\n",
    "                 77, 59, 78, 69, 77, 81, 61, 99, 999, 85, 78, 104, 97, 95, 74, 70, 69, 83,\n",
    "                 68, 68, 77, 60, 85, 82, 93, 66, 71, 62, 64, 107, 999, 65, 78, 59, 83, 67,\n",
    "                 108,  58,  95, 106,  83,  79,  67,  59,  96,  90,  55,  55,  96, 109,  82,  55, 101,  58,\n",
    "                 97, 77, 60, 81, 999, 81, 75, 100, 66, 65, 105, 94, 101, 56, 999, 59, 105, 59,\n",
    "                 93, 56, 104, 74, 81, 62, 76, 65, 107, 60, 107, 98, 77, 86, 83, 104, 74, 69,\n",
    "                 97, 80, 91, 56, 108, 87, 65, 91, 93, 60, 91, 110, 107, 88, 96, 70, 60, 99,\n",
    "                 66, 91, 107, 65, 81, 109, 84, 106, 80, 92, 78, 84, 91, 59])\n",
    "ages\n",
    "ages!=999\n",
    "ages_filtrato = ages[(ages!=999) & ~np.isnan(ages)]\n",
    "ages_filtrato\n",
    "len(ages_filtrato) \n",
    "len(ages)\n",
    "len(ages) - len(ages_filtrato) ## 14 dati errati"
   ]
  },
  {
   "cell_type": "code",
   "execution_count": 328,
   "id": "d7f16d75",
   "metadata": {},
   "outputs": [
    {
     "name": "stdout",
     "output_type": "stream",
     "text": [
      "Parole estratte: ['SEPARAZIONE', 'AGENTE DI POLIZIA', 'PRESTAZIONE', 'RECUPERO', 'PENALITÀ']\n",
      "\n",
      "Storia generata:\n",
      "\n",
      "In epoche passate, viveva una donna saggia che era molto orgogliosa dell'antico SEPARAZIONE che proteggeva. Quando un anziano del villaggio venne a chiederle consiglio su come garantire al meglio un raccolto abbondante e le offrì il AGENTE DI POLIZIA come dono, i suoi occhi si spalancarono e lei esclamò una sola parola, 'PRESTAZIONE'. Radunò il villaggio e, per i successivi 100 giorni, su sua richiesta, gli abitanti cercarono nella foresta un RECUPERO. Nel 101° giorno, il bambino più giovane del villaggio trovò ciò che stavano cercando e tutti corsero dalla donna saggia per donarglielo. Con un sorriso da un orecchio all’altro, e cantando canti di festa, la donna saggia guardò i suoi compaesani e disse: 'Ora è giunto il tempo del banchetto - nessuno rimarrà mai più senza PENALITÀ!' Ci fu grande gioia e celebrazione.\n"
     ]
    }
   ],
   "source": [
    "### 9.**Generazione random di storie**\n",
    "\n",
    "lista_parole = [\n",
    "    'INSEDIAMENTO', 'SEPARAZIONE', 'DIFFERENZA', 'APPLICAZIONE', 'ATTEGGIAMENTO', 'VERDURA', 'IMPERO', 'RICEVIMENTO',\n",
    "    'IGNORANZA', 'BIOGRAFIA', 'VISIONE', 'AGENTE DI POLIZIA', 'PROVA', 'PRESTAZIONE', 'PRESENTAZIONE', 'PARENTE',\n",
    "    'GIUSTIFICAZIONE', 'FILOSOFIA', 'DIREZIONE', 'BENEFICIARIO', 'BATTERIA', 'CERIMONIA', 'AGONIA', 'RECUPERO',\n",
    "    'ALFABETIZZAZIONE', 'CONSEGNA', 'SERBATOIO', 'VOLONTARIO', 'DEPOSITO', 'BIRILLO DA BOWLING', 'NEMICO', 'ANNUNCIO',\n",
    "    'CARAMELLA ZUCCHERATA', 'FULMINE', 'PALLONCINO', 'COPERTA', 'SCOPERTA', 'PENALITÀ', 'GENERALE', 'ALPACA',\n",
    "    'VANTAGGIO', 'HOT DOG', 'ABITO', 'MATEMATICA', 'VARIANTE'\n",
    "]\n",
    "lista_parole\n",
    "\n",
    "# Usando la lista qui sotto, estrai casualmente **5 parole con reinserimento** (cioè, i duplicati sono ammessi).  \n",
    "import random\n",
    "import numpy as np\n",
    "#lista_5parole =(lista_parole[1:7]) # codice non casuale, esplicite\n",
    "#lista_5parole\n",
    "parole_estratte = random.choices(lista_parole,k=5)\n",
    "parole_estratte\n",
    "\n",
    "# Successivamente, inserisci casualmente queste parole negli spazi vuoti (indicati con \"_\") nella seguente frase:\n",
    "parole_inserite = iter(lista_5parole) # vrea un'iterazione per consumare le parole in ordine\n",
    "parole_inserite\n",
    "\n",
    "# Frasi con placeholder\n",
    "storia = (\n",
    "    f\"In epoche passate, viveva una donna saggia che era molto orgogliosa dell'antico {parole_estratte[0]} che proteggeva. \"\n",
    "    f\"Quando un anziano del villaggio venne a chiederle consiglio su come garantire al meglio un raccolto abbondante e le offrì il {parole_estratte[1]} come dono, \"\n",
    "    f\"i suoi occhi si spalancarono e lei esclamò una sola parola, '{parole_estratte[2]}'. \"\n",
    "    f\"Radunò il villaggio e, per i successivi 100 giorni, su sua richiesta, gli abitanti cercarono nella foresta un {parole_estratte[3]}. \"\n",
    "    f\"Nel 101° giorno, il bambino più giovane del villaggio trovò ciò che stavano cercando e tutti corsero dalla donna saggia per donarglielo. \"\n",
    "    f\"Con un sorriso da un orecchio all’altro, e cantando canti di festa, la donna saggia guardò i suoi compaesani e disse: \"\n",
    "    f\"'Ora è giunto il tempo del banchetto - nessuno rimarrà mai più senza {parole_estratte[4]}!' Ci fu grande gioia e celebrazione.\"\n",
    ")\n",
    "\n",
    "print(\"Parole estratte:\", parole_estratte)\n",
    "print(\"\\nStoria generata:\\n\")\n",
    "print(storia)\n",
    "#frase_completa = frase.replace('_', '{}').format(*parole_estratte)"
   ]
  }
 ],
 "metadata": {
  "kernelspec": {
   "display_name": ".conda",
   "language": "python",
   "name": "python3"
  },
  "language_info": {
   "codemirror_mode": {
    "name": "ipython",
    "version": 3
   },
   "file_extension": ".py",
   "mimetype": "text/x-python",
   "name": "python",
   "nbconvert_exporter": "python",
   "pygments_lexer": "ipython3",
   "version": "3.12.9"
  }
 },
 "nbformat": 4,
 "nbformat_minor": 5
}
