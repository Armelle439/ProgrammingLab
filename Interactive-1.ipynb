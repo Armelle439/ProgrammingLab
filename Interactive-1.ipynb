{
 "cells": [
  {
   "cell_type": "code",
   "execution_count": null,
   "id": "b96f80ec",
   "metadata": {},
   "outputs": [
    {
     "name": "stdout",
     "output_type": "stream",
     "text": [
      " x is greater than 6\n"
     ]
    }
   ],
   "source": [
    "# READING LESSONS\n",
    "# FIRST PART\n",
    "\n",
    "x = 7\n",
    "if x<6 :\n",
    "    print('x is smaller than 6')\n",
    "elif x>6 :\n",
    "    print(' x is greater than 6')\n"
   ]
  },
  {
   "cell_type": "code",
   "execution_count": 28,
   "id": "e8e8f7e0",
   "metadata": {},
   "outputs": [],
   "source": [
    "numbers = []\n",
    "for x in range(10):\n",
    "    numbers.append(x*x)"
   ]
  },
  {
   "cell_type": "code",
   "execution_count": 9,
   "id": "10b213e7",
   "metadata": {},
   "outputs": [
    {
     "name": "stdout",
     "output_type": "stream",
     "text": [
      "0\n",
      "1\n",
      "2\n",
      "3\n",
      "4\n",
      "5\n",
      "6\n",
      "7\n",
      "8\n",
      "9\n"
     ]
    }
   ],
   "source": [
    "for i in range(10):\n",
    "    print(i)"
   ]
  },
  {
   "cell_type": "code",
   "execution_count": 33,
   "id": "b629512d",
   "metadata": {},
   "outputs": [
    {
     "data": {
      "text/plain": [
       "([0, 1, 4, 9, 16, 25, 36, 49, 64, 81], [0, 1, 4, 9, 16, 25, 36, 49, 64, 81])"
      ]
     },
     "execution_count": 33,
     "metadata": {},
     "output_type": "execute_result"
    }
   ],
   "source": [
    "lista = []\n",
    "for x in range(10):\n",
    "    lista.append(x*x)\n",
    "\n",
    "# with the list comprehension.\n",
    "list = [x*x for x in range(10)]\n",
    "\n",
    "lista , list"
   ]
  },
  {
   "cell_type": "code",
   "execution_count": 35,
   "id": "d460fa76",
   "metadata": {},
   "outputs": [
    {
     "data": {
      "text/plain": [
       "[1, 3, 5, 7, 9]"
      ]
     },
     "execution_count": 35,
     "metadata": {},
     "output_type": "execute_result"
    }
   ],
   "source": [
    "# Numeri dispari\n",
    "\n",
    "odd_numbers = [x for x in range(10) if x%2 != 0]\n",
    "odd_numbers"
   ]
  },
  {
   "cell_type": "code",
   "execution_count": 37,
   "id": "0f6cb79e",
   "metadata": {},
   "outputs": [
    {
     "data": {
      "text/plain": [
       "[0, 4, 16, 36, 64, 100, 144, 196, 256, 324]"
      ]
     },
     "execution_count": 37,
     "metadata": {},
     "output_type": "execute_result"
    }
   ],
   "source": [
    "# numeri pari\n",
    "even_numbers = [x*x for x in range(20) if x%2 == 0]\n",
    "even_numbers"
   ]
  },
  {
   "cell_type": "code",
   "execution_count": 48,
   "id": "be006281",
   "metadata": {},
   "outputs": [
    {
     "data": {
      "text/plain": [
       "(['l', 'u', 'x', 'u', 'r', 'e'], True, 8)"
      ]
     },
     "execution_count": 48,
     "metadata": {},
     "output_type": "execute_result"
    }
   ],
   "source": [
    "caratteri = [x for x in \"luxure\"]\n",
    "caratteri\n",
    "\n",
    "\n",
    "# fonction lambda \n",
    "somma = lambda x, y : x+y\n",
    "somma(3,5)\n",
    "caratteri , any(x in caratteri for x in caratteri) , somma(3,5)"
   ]
  },
  {
   "cell_type": "code",
   "execution_count": 62,
   "id": "89230132",
   "metadata": {},
   "outputs": [
    {
     "data": {
      "text/plain": [
       "[550.5500000000001,\n",
       " 864.0500000000001,\n",
       " 721.0500000000001,\n",
       " 880.0000000000001,\n",
       " 770.5500000000001,\n",
       " 987.2500000000001,\n",
       " 550.5500000000001,\n",
       " 935.5500000000001,\n",
       " 546.1500000000001,\n",
       " 990.0000000000001]"
      ]
     },
     "execution_count": 62,
     "metadata": {},
     "output_type": "execute_result"
    }
   ],
   "source": [
    "### Esempio #1\n",
    "\n",
    "#Creiamo una funzione per calcolare lo **stipendio totale**.\n",
    "stipendio_per_mese = [500.5 , 785.5 , 655.5 , 800 , 700.5 , 897.5 , 500.5 , 850.5 , 496.5 , 900 ]\n",
    "stipendio_per_mese\n",
    "\n",
    "def calcul_salary(stipendio_base, bonus = 0.1):\n",
    "    return stipendio_base*(1+bonus)\n",
    "\n",
    "stipendio_totale = [calcul_salary(stipendio) for stipendio in stipendio_per_mese]\n",
    "stipendio_totale\n"
   ]
  },
  {
   "cell_type": "code",
   "execution_count": null,
   "id": "b645096d",
   "metadata": {},
   "outputs": [
    {
     "data": {
      "text/plain": [
       "[550.5500000000001,\n",
       " 864.0500000000001,\n",
       " 721.0500000000001,\n",
       " 880.0000000000001,\n",
       " 770.5500000000001,\n",
       " 987.2500000000001,\n",
       " 550.5500000000001,\n",
       " 935.5500000000001,\n",
       " 546.1500000000001,\n",
       " 990.0000000000001]"
      ]
     },
     "execution_count": 67,
     "metadata": {},
     "output_type": "execute_result"
    }
   ],
   "source": [
    "#Ma cosa succede se dobbiamo applicare questa funzione a una **lista** di stipendi?\n",
    "\n",
    "salary_totale = [(lambda x : x * (1.1))(stipendio) for stipendio in stipendio_per_mese] \n",
    "salary_totale\n"
   ]
  },
  {
   "cell_type": "code",
   "execution_count": 71,
   "id": "88dc2fe2",
   "metadata": {},
   "outputs": [
    {
     "data": {
      "text/plain": [
       "[550.5500000000001,\n",
       " 864.0500000000001,\n",
       " 721.0500000000001,\n",
       " 880.0000000000001,\n",
       " 770.5500000000001,\n",
       " 987.2500000000001,\n",
       " 550.5500000000001,\n",
       " 935.5500000000001,\n",
       " 546.1500000000001,\n",
       " 990.0000000000001]"
      ]
     },
     "execution_count": 71,
     "metadata": {},
     "output_type": "execute_result"
    }
   ],
   "source": [
    "#Possiamo usare la **list comprehension** per farlo in modo efficiente!\n",
    "calcul_salary_total = [stipendio*1.1 for stipendio in stipendio_per_mese]\n",
    "calcul_salary_total"
   ]
  },
  {
   "cell_type": "code",
   "execution_count": null,
   "id": "6904d89c",
   "metadata": {},
   "outputs": [
    {
     "data": {
      "text/plain": [
       "9"
      ]
     },
     "execution_count": 79,
     "metadata": {},
     "output_type": "execute_result"
    }
   ],
   "source": [
    "import random\n",
    "random.randint(6,9)\n",
    "# from random import randint\n",
    "# randint(6,9)"
   ]
  },
  {
   "cell_type": "code",
   "execution_count": null,
   "id": "4101bb27",
   "metadata": {},
   "outputs": [],
   "source": [
    "import pandas as pd\n"
   ]
  },
  {
   "cell_type": "code",
   "execution_count": 82,
   "id": "b3abd807",
   "metadata": {},
   "outputs": [
    {
     "name": "stdout",
     "output_type": "stream",
     "text": [
      "Mean: 99400\n",
      "Median: 99000\n",
      "Mode: 98000\n"
     ]
    }
   ],
   "source": [
    "import statistics\n",
    "\n",
    "salary_list = [98000, 101000, 102000, 99000, 97000]\n",
    "\n",
    "# Calcolo media, mediana e moda\n",
    "mean = statistics.mean(salary_list)\n",
    "median = statistics.median(salary_list)\n",
    "mode = statistics.mode(salary_list)\n",
    "mean , median , mode # stampe mean median e mode sans preciser\n",
    "# Stampo media, mediana e moda en specifiant chacun son nom\n",
    "print(f'Mean: {mean}')\n",
    "print(f'Median: {median}')\n",
    "print(f'Mode: {mode}')"
   ]
  },
  {
   "cell_type": "code",
   "execution_count": 26,
   "id": "41908809",
   "metadata": {},
   "outputs": [
    {
     "name": "stdout",
     "output_type": "stream",
     "text": [
      "Hello, alice\n"
     ]
    }
   ],
   "source": [
    "def greet(name):\n",
    "    print(f'Hello, {name}')\n",
    "\n",
    "greet(\"alice\")\n",
    "\n"
   ]
  },
  {
   "cell_type": "code",
   "execution_count": 27,
   "id": "1a4daf74",
   "metadata": {},
   "outputs": [
    {
     "data": {
      "text/plain": [
       "1"
      ]
     },
     "execution_count": 27,
     "metadata": {},
     "output_type": "execute_result"
    }
   ],
   "source": [
    "def diff(a,b):\n",
    "    \"\"\"return the difference between a and b\"\"\"\n",
    "    return a-b \n",
    "diff(10,9)"
   ]
  }
 ],
 "metadata": {
  "kernelspec": {
   "display_name": ".conda",
   "language": "python",
   "name": "python3"
  },
  "language_info": {
   "codemirror_mode": {
    "name": "ipython",
    "version": 3
   },
   "file_extension": ".py",
   "mimetype": "text/x-python",
   "name": "python",
   "nbconvert_exporter": "python",
   "pygments_lexer": "ipython3",
   "version": "3.12.9"
  }
 },
 "nbformat": 4,
 "nbformat_minor": 5
}
